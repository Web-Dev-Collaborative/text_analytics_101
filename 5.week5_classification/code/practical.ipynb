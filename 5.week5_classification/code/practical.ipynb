{
 "cells": [
  {
   "cell_type": "code",
   "execution_count": 34,
   "metadata": {},
   "outputs": [],
   "source": [
    "#importing functions\n",
    "import csv\n",
    "import random\n",
    "import math\n",
    "import operator\n",
    "import numpy as np\n",
    "import pandas as pd \n",
    "import matplotlib.pyplot as plt\n",
    "from collections import defaultdict\n",
    "from sklearn.model_selection import KFold\n",
    "from sklearn.model_selection import train_test_split\n",
    "from sklearn.model_selection import cross_val_score\n",
    "from sklearn.neighbors import KNeighborsClassifier"
   ]
  },
  {
   "cell_type": "code",
   "execution_count": 35,
   "metadata": {},
   "outputs": [],
   "source": [
    "def loadDataset(filename, split, trainingSet=[] , testSet=[]): #loads dataset and splits it into train and test\n",
    "    with open(filename, 'r') as csvfile: #opens file with handle csvfile\n",
    "        lines = csv.reader(csvfile) #load / read the contents of handle and store them in lines\n",
    "        #print(lines) -- csvreader object\n",
    "        dataset = list(lines) # convert string to list \n",
    "        #print(dataset)\n",
    "        for x in range(len(dataset)-1): #for each ele in list\n",
    "            for y in range(4): #\n",
    "                dataset[x][y] = float(dataset[x][y])\n",
    "            if random.random() < split:\n",
    "                trainingSet.append(dataset[x])\n",
    "            else:\n",
    "                testSet.append(dataset[x])\n",
    "        #print(trainingSet)\n",
    "        #print(testSet)\n",
    "loadDataset('iris.csv', 0.67)"
   ]
  },
  {
   "cell_type": "code",
   "execution_count": 36,
   "metadata": {},
   "outputs": [],
   "source": [
    "def euclideanDistance(instance1, instance2, length): #length --> length of test set\n",
    "    distance = 0\n",
    "    for x in range(length):\n",
    "        distance += pow((instance1[x] - instance2[x]), 2)\n",
    "    #print(distance)\n",
    "    return math.sqrt(distance)"
   ]
  },
  {
   "cell_type": "code",
   "execution_count": 37,
   "metadata": {},
   "outputs": [],
   "source": [
    "def getNeighbors(trainingSet, testInstance, k): #testInstance is each test-point in test-set\n",
    "    distances = [] \n",
    "    length = len(testInstance)-1\n",
    "    for x in range(len(trainingSet)): #for each y, iterate over all the x-instance\n",
    "        dist = euclideanDistance(testInstance, trainingSet[x], length) \n",
    "        distances.append((trainingSet[x], dist)) \n",
    "        distances.sort(key=operator.itemgetter(1)) #in ascending --> smallest dist first\n",
    "        neighbors = []\n",
    "    for x in range(k):\n",
    "        neighbors.append(distances[x][0]) #here, append k neighbors having smallest distance \n",
    "    return neighbors"
   ]
  },
  {
   "cell_type": "code",
   "execution_count": 38,
   "metadata": {},
   "outputs": [],
   "source": [
    "def getResponse(neighbors):\n",
    "    classVotes = {}\n",
    "    for x in range(len(neighbors)):\n",
    "        response = neighbors[x][-1] \n",
    "        #print(response)\n",
    "        if response in classVotes: #simple dict of key, key_counter\n",
    "            classVotes[response] += 1\n",
    "        else:\n",
    "            classVotes[response] = 1\n",
    "    #print(classVotes)\n",
    "    sortedVotes = sorted(classVotes.items(), key=operator.itemgetter(1), reverse=True)\n",
    "    #print(sortedVotes)\n",
    "    return sortedVotes[0][0] #returns first index of first ele..which is class label\n",
    "        "
   ]
  },
  {
   "cell_type": "code",
   "execution_count": 39,
   "metadata": {},
   "outputs": [],
   "source": [
    "def getAccuracy(testSet, predictions):\n",
    "    correct = 0\n",
    "    for x in range(len(testSet)):\n",
    "        if testSet[x][-1] == predictions[x]: \n",
    "            correct += 1\n",
    "    return (correct/float(len(testSet))) * 100.0 #no of corrects / total_len(test_set) * 100"
   ]
  },
  {
   "cell_type": "code",
   "execution_count": 40,
   "metadata": {},
   "outputs": [
    {
     "name": "stdout",
     "output_type": "stream",
     "text": [
      "For split_value - 0.1\n",
      "Train set: 12\n",
      "Test set: 137\n",
      "For split_value - 0.3\n",
      "Train set: 41\n",
      "Test set: 108\n",
      "For split_value - 0.6\n",
      "Train set: 88\n",
      "Test set: 61\n",
      "For split_value - 0.8\n",
      "Train set: 109\n",
      "Test set: 40\n",
      "defaultdict(<class 'dict'>, {0.1: {2: 94.8905109489051, 3: 91.97080291970804, 5: 57.66423357664233, 7: 55.47445255474452, 9: 47.44525547445255}, 0.3: {2: 89.81481481481481, 3: 91.66666666666666, 5: 91.66666666666666, 7: 91.66666666666666, 9: 92.5925925925926}, 0.6: {2: 98.36065573770492, 3: 96.72131147540983, 5: 96.72131147540983, 7: 95.08196721311475, 9: 95.08196721311475}, 0.8: {2: 90.0, 3: 92.5, 5: 95.0, 7: 97.5, 9: 97.5}})\n"
     ]
    },
    {
     "data": {
      "text/html": [
       "<div>\n",
       "<style scoped>\n",
       "    .dataframe tbody tr th:only-of-type {\n",
       "        vertical-align: middle;\n",
       "    }\n",
       "\n",
       "    .dataframe tbody tr th {\n",
       "        vertical-align: top;\n",
       "    }\n",
       "\n",
       "    .dataframe thead th {\n",
       "        text-align: right;\n",
       "    }\n",
       "</style>\n",
       "<table border=\"1\" class=\"dataframe\">\n",
       "  <thead>\n",
       "    <tr style=\"text-align: right;\">\n",
       "      <th></th>\n",
       "      <th>0.1</th>\n",
       "      <th>0.3</th>\n",
       "      <th>0.6</th>\n",
       "      <th>0.8</th>\n",
       "    </tr>\n",
       "  </thead>\n",
       "  <tbody>\n",
       "    <tr>\n",
       "      <th>2</th>\n",
       "      <td>94.890511</td>\n",
       "      <td>89.814815</td>\n",
       "      <td>98.360656</td>\n",
       "      <td>90.0</td>\n",
       "    </tr>\n",
       "    <tr>\n",
       "      <th>3</th>\n",
       "      <td>91.970803</td>\n",
       "      <td>91.666667</td>\n",
       "      <td>96.721311</td>\n",
       "      <td>92.5</td>\n",
       "    </tr>\n",
       "    <tr>\n",
       "      <th>5</th>\n",
       "      <td>57.664234</td>\n",
       "      <td>91.666667</td>\n",
       "      <td>96.721311</td>\n",
       "      <td>95.0</td>\n",
       "    </tr>\n",
       "    <tr>\n",
       "      <th>7</th>\n",
       "      <td>55.474453</td>\n",
       "      <td>91.666667</td>\n",
       "      <td>95.081967</td>\n",
       "      <td>97.5</td>\n",
       "    </tr>\n",
       "    <tr>\n",
       "      <th>9</th>\n",
       "      <td>47.445255</td>\n",
       "      <td>92.592593</td>\n",
       "      <td>95.081967</td>\n",
       "      <td>97.5</td>\n",
       "    </tr>\n",
       "  </tbody>\n",
       "</table>\n",
       "</div>"
      ],
      "text/plain": [
       "         0.1        0.3        0.6   0.8\n",
       "2  94.890511  89.814815  98.360656  90.0\n",
       "3  91.970803  91.666667  96.721311  92.5\n",
       "5  57.664234  91.666667  96.721311  95.0\n",
       "7  55.474453  91.666667  95.081967  97.5\n",
       "9  47.445255  92.592593  95.081967  97.5"
      ]
     },
     "metadata": {},
     "output_type": "display_data"
    },
    {
     "data": {
      "image/png": "[encoded data removed]",
      "text/plain": [
       "<Figure size 720x504 with 1 Axes>"
      ]
     },
     "metadata": {
      "needs_background": "light"
     },
     "output_type": "display_data"
    }
   ],
   "source": [
    "import matplotlib.pyplot as plt\n",
    "from collections import defaultdict\n",
    "\n",
    "def main():\n",
    "    # prepare data\n",
    "    split_array = [0.1, 0.3, 0.6, 0.8]\n",
    "    \n",
    "    #split = 0.67\n",
    "    # generate predictions\n",
    "    k_array = [2, 3, 5, 7, 9]\n",
    "    final_accuracy = defaultdict(dict)\n",
    "    #k = 2\n",
    "    for _el in split_array:\n",
    "        trainingSet, testSet=[], []\n",
    "        split = _el\n",
    "        print(f\"For split_value - {split}\")\n",
    "        loadDataset('iris.csv', split, trainingSet, testSet)\n",
    "        print('Train set: ' + repr(len(trainingSet)))\n",
    "        print('Test set: ' + repr(len(testSet)))\n",
    "        i = 0\n",
    "        for ele in k_array:\n",
    "            predictions, k = [], ele\n",
    "            #print(f\"k - {k}\")\n",
    "            for x in range(len(testSet)):\n",
    "                neighbors = getNeighbors(trainingSet, testSet[x], k) #get k closest neighors\n",
    "                result = getResponse(neighbors) #returns the predicted class\n",
    "                predictions.append(result) #append the result to another array\n",
    "                #print('> predicted=' + repr(result) + ', actual=' + repr(testSet[x][-1]))\n",
    "            accuracy = getAccuracy(testSet, predictions)\n",
    "            final_accuracy[split][k] = accuracy\n",
    "            #print('Accuracy: ' + repr(accuracy) + '%')\n",
    "    print(final_accuracy)\n",
    "    resultant_df = pd.DataFrame(final_accuracy)\n",
    "    display(resultant_df)\n",
    "    fig, ax1 = plt.subplots()\n",
    "    font = {'family': 'serif',\n",
    "            'color':  'black',\n",
    "            'weight': 'normal',\n",
    "            'size': 18,\n",
    "            }\n",
    "    fig.set_size_inches(10, 7)\n",
    "    ax1.set_xlabel('Values of K:', fontdict = font)\n",
    "    ax1.set_ylabel('Accuracy', fontdict = font)\n",
    "    ax1.set_title('Relationship Between Values of K and Accuracy', fontdict = font)\n",
    "    ax1.tick_params(axis='both', which='major', labelsize=15)\n",
    "    ax1.tick_params(axis='both', which='minor', labelsize=12)\n",
    "    plt.plot(resultant_df, linewidth = 3, marker = 'o', markersize = 6)\n",
    "    plt.xticks(k_array) \n",
    "    plt.legend(split_array, loc = 'lower left')\n",
    "    plt.show()\n",
    "    \n",
    "    \n",
    "main()"
   ]
  },
  {
   "cell_type": "code",
   "execution_count": 41,
   "metadata": {},
   "outputs": [
    {
     "data": {
      "text/plain": [
       "\"\\ndef main():\\n\\n\\ttrainingSet=[]\\n\\ttestSet=[]\\n\\tsplit = 0.9\\n\\tloadDataset('iris.csv', split, trainingSet, testSet)\\n\\tprint('Train set: ' + repr(len(trainingSet)))\\n\\tprint('Test set: ' + repr(len(testSet)))\\n\\t# generate predictions\\n\\tpredictions=[]\\n\\tk = 2\\n\\tfor x in range(len(testSet)):\\n\\t\\tneighbors = getNeighbors(trainingSet, testSet[x], k)\\n\\t\\tresult = getResponse(neighbors)\\n\\t\\tpredictions.append(result)\\n\\t\\tprint('> predicted=' + repr(result) + ', actual=' + repr(testSet[x][-1]))\\n\\taccuracy = getAccuracy(testSet, predictions)\\n\\tprint('Accuracy: ' + repr(accuracy) + '%')\\n\\t\\nmain()\\n\""
      ]
     },
     "execution_count": 41,
     "metadata": {},
     "output_type": "execute_result"
    }
   ],
   "source": [
    "'''\n",
    "def main():\n",
    "\n",
    "\ttrainingSet=[]\n",
    "\ttestSet=[]\n",
    "\tsplit = 0.9\n",
    "\tloadDataset('iris.csv', split, trainingSet, testSet)\n",
    "\tprint('Train set: ' + repr(len(trainingSet)))\n",
    "\tprint('Test set: ' + repr(len(testSet)))\n",
    "\t# generate predictions\n",
    "\tpredictions=[]\n",
    "\tk = 2\n",
    "\tfor x in range(len(testSet)):\n",
    "\t\tneighbors = getNeighbors(trainingSet, testSet[x], k)\n",
    "\t\tresult = getResponse(neighbors)\n",
    "\t\tpredictions.append(result)\n",
    "\t\tprint('> predicted=' + repr(result) + ', actual=' + repr(testSet[x][-1]))\n",
    "\taccuracy = getAccuracy(testSet, predictions)\n",
    "\tprint('Accuracy: ' + repr(accuracy) + '%')\n",
    "\t\n",
    "main()\n",
    "'''"
   ]
  },
  {
   "cell_type": "code",
   "execution_count": 42,
   "metadata": {},
   "outputs": [
    {
     "data": {
      "text/plain": [
       "'\\ndef partition(data, kFolds, seed = None):\\n    \\n    #assiging current part of dataset to non-full partition\\n    def assign_partitions(partitions, kFolds, size, seed = None):\\n        if seed is not None: #just blindly using the seed value --> intuition copied from exisiting code\\n            random.Random(seed)\\n        x = random.randint(0, kFolds - 1) #take a random fold from 0 to k\\n        while(len(partitions[x]) >= size):\\n            x = random.randint(0,kFolds - 1)\\n        return x\\n\\n    #first lets find total size of dataset\\n    size = math.ceil(len(data) / float(kFolds)) # rounding off to ceil values\\n    partitions = [[] for i in range(kFolds)] #empty 2d array\\n    for element in data:\\n        x = assign_partitions(partitions, kFolds, size, seed) \\n        partitions[x].append(element)\\n    return partitions\\n\\n#reusing same code\\ndef loadDataset_kfolded(filename, split, trainingSet=[] , testSet=[]): #loads dataset and splits it into train and test\\n    with open(filename, \\'r\\') as csvfile: #opens file with handle csvfile\\n        lines = csv.reader(csvfile) #load / read the contents of handle and store them in lines\\n        #print(lines) -- csvreader object\\n        dataset = list(lines) # convert string to list \\n        k = 5\\n        partitions = partition(dataset, k, 1)\\n        for i in range(k):\\n            trainingSet = list()\\n            for j in range(k):\\n                if j != i:\\n                    trainingSet.append(partitions[j])\\n            trainingSet = [item for entry in trainingSet for item in entry]\\n            testSet = partitions[i]\\n            print(\"###---- trainingset ----###\")\\n            print(trainingSet)\\n            print(\"###---- testset ----###\")\\n            print(testSet)\\n            print(\"---\\n\\n\\n---\")\\n\\nloadDataset_kfolded(\\'iris.csv\\', 0)\\n'"
      ]
     },
     "execution_count": 42,
     "metadata": {},
     "output_type": "execute_result"
    }
   ],
   "source": [
    "#Question 2....\n",
    "#First I will partition data into k partitions..\n",
    "#next\n",
    "'''\n",
    "def partition(data, kFolds, seed = None):\n",
    "    \n",
    "    #assiging current part of dataset to non-full partition\n",
    "    def assign_partitions(partitions, kFolds, size, seed = None):\n",
    "        if seed is not None: #just blindly using the seed value --> intuition copied from exisiting code\n",
    "            random.Random(seed)\n",
    "        x = random.randint(0, kFolds - 1) #take a random fold from 0 to k\n",
    "        while(len(partitions[x]) >= size):\n",
    "            x = random.randint(0,kFolds - 1)\n",
    "        return x\n",
    "\n",
    "    #first lets find total size of dataset\n",
    "    size = math.ceil(len(data) / float(kFolds)) # rounding off to ceil values\n",
    "    partitions = [[] for i in range(kFolds)] #empty 2d array\n",
    "    for element in data:\n",
    "        x = assign_partitions(partitions, kFolds, size, seed) \n",
    "        partitions[x].append(element)\n",
    "    return partitions\n",
    "\n",
    "#reusing same code\n",
    "def loadDataset_kfolded(filename, split, trainingSet=[] , testSet=[]): #loads dataset and splits it into train and test\n",
    "    with open(filename, 'r') as csvfile: #opens file with handle csvfile\n",
    "        lines = csv.reader(csvfile) #load / read the contents of handle and store them in lines\n",
    "        #print(lines) -- csvreader object\n",
    "        dataset = list(lines) # convert string to list \n",
    "        k = 5\n",
    "        partitions = partition(dataset, k, 1)\n",
    "        for i in range(k):\n",
    "            trainingSet = list()\n",
    "            for j in range(k):\n",
    "                if j != i:\n",
    "                    trainingSet.append(partitions[j])\n",
    "            trainingSet = [item for entry in trainingSet for item in entry]\n",
    "            testSet = partitions[i]\n",
    "            print(\"###---- trainingset ----###\")\n",
    "            print(trainingSet)\n",
    "            print(\"###---- testset ----###\")\n",
    "            print(testSet)\n",
    "            print(\"---\\n\\n\\n---\")\n",
    "\n",
    "loadDataset_kfolded('iris.csv', 0)\n",
    "'''"
   ]
  },
  {
   "cell_type": "code",
   "execution_count": 43,
   "metadata": {},
   "outputs": [
    {
     "name": "stdout",
     "output_type": "stream",
     "text": [
      "{2: 0.9375494071146246, 6: 0.9280632411067193, 10: 0.9454545454545455, 14: 0.9640316205533598, 18: 0.9545454545454547}\n"
     ]
    },
    {
     "data": {
      "image/png": "[encoded data removed]",
      "text/plain": [
       "<Figure size 720x504 with 1 Axes>"
      ]
     },
     "metadata": {
      "needs_background": "light"
     },
     "output_type": "display_data"
    }
   ],
   "source": [
    "from sklearn.datasets import load_iris\n",
    "#dframe = load_iris()\n",
    "#X = dframe.data[:, :3]  # we only take the first two features.\n",
    "#y = dframe.target\n",
    "\n",
    "df = pd.read_csv('iris.csv')\n",
    "X = df.iloc[:, 0:4]\n",
    "y = df.iloc[:, [4]]\n",
    "k_array = [2, 6, 10, 14, 18]\n",
    "resultant_mean = dict()\n",
    "for k in k_array:\n",
    "    KNN = KNeighborsClassifier(n_neighbors = k)\n",
    "    X_train,X_test,y_train,y_test = train_test_split(X,y)\n",
    "    kf = KFold(n_splits = 5, shuffle = False)\n",
    "    cv_scores = cross_val_score(KNN, X_train, np.ravel(y_train), cv = kf)\n",
    "    #print(cv_scores)\n",
    "    #print(cv_scores.mean())\n",
    "    resultant_mean[k] = cv_scores.mean()\n",
    "print(resultant_mean)\n",
    "\n",
    "fig, ax1 = plt.subplots()\n",
    "font = {'family': 'serif',\n",
    "        'color':  'black',\n",
    "        'weight': 'normal',\n",
    "        'size': 18,\n",
    "        }\n",
    "fig.set_size_inches(10, 7)\n",
    "ax1.set_xlabel('K', fontdict = font)\n",
    "ax1.set_ylabel('Mean accuracy', fontdict = font)\n",
    "ax1.set_title('Relationship Between K and Accuracy', fontdict = font)\n",
    "ax1.tick_params(axis='both', which='major', labelsize=15)\n",
    "ax1.tick_params(axis='both', which='minor', labelsize=12)\n",
    "plt.xticks(k_array)\n",
    "plt.plot(*zip(*sorted(resultant_mean.items())))\n",
    "plt.show()"
   ]
  },
  {
   "cell_type": "code",
   "execution_count": 44,
   "metadata": {},
   "outputs": [
    {
     "name": "stdout",
     "output_type": "stream",
     "text": [
      "------ Last letter ------\n",
      "Cob is: female\n",
      "John is: female\n",
      "Barry is: female\n",
      "Most Informative Features\n",
      "             last_letter = 'a'            female : male   =     34.8 : 1.0\n",
      "             last_letter = 'k'              male : female =     31.3 : 1.0\n",
      "             last_letter = 'f'              male : female =     16.4 : 1.0\n",
      "             last_letter = 'p'              male : female =     11.7 : 1.0\n",
      "             last_letter = 'd'              male : female =      9.6 : 1.0\n",
      "0.748\n",
      "------ First 2 last 2 ------\n",
      "Cob is: male\n",
      "John is: male\n",
      "Barry is: male\n",
      "Most Informative Features\n",
      "               last_word = 'na'           female : male   =    100.2 : 1.0\n",
      "               last_word = 'la'           female : male   =     76.5 : 1.0\n",
      "               last_word = 'ia'           female : male   =     56.4 : 1.0\n",
      "               last_word = 'us'             male : female =     41.1 : 1.0\n",
      "               last_word = 'sa'           female : male   =     36.7 : 1.0\n",
      "0.81\n",
      "------ Get from mid ------\n",
      "Cob is: male\n",
      "John is: male\n",
      "Barry is: female\n",
      "Most Informative Features\n",
      "         from_mid_to_end = 'ett'          female : male   =     32.5 : 1.0\n",
      "         from_mid_to_end = 'ma'             male : female =     20.2 : 1.0\n",
      "         from_mid_to_end = 'wi'             male : female =     18.1 : 1.0\n",
      "         from_mid_to_end = 'ss'           female : male   =     17.8 : 1.0\n",
      "         from_mid_to_end = 'ell'          female : male   =     16.1 : 1.0\n",
      "0.72\n"
     ]
    },
    {
     "data": {
      "image/png": "[encoded data removed]",
      "text/plain": [
       "<Figure size 432x288 with 1 Axes>"
      ]
     },
     "metadata": {
      "needs_background": "light"
     },
     "output_type": "display_data"
    }
   ],
   "source": [
    "#question 2\n",
    "import nltk\n",
    "from nltk.corpus import names\n",
    "import random\n",
    "\n",
    "def gender_features(word):\n",
    "    return {'last_letter': word[-1]}\n",
    "# gender_features('Shrek') = {'last_letter': 'k'}\n",
    "\n",
    "def get_from_mid(word):\n",
    "    return {'from_mid_to_end' : word[len(word)//2 : len(word) - 1]}\n",
    "\n",
    "def get_first2_last2(word):\n",
    "    return {'first_word': word[0:1], 'last_word' : word[-2:]}\n",
    "\n",
    "male_names = [(name, 'male') for name in names.words('male.txt')]\n",
    "female_names = [(name, 'female') for name in names.words('female.txt')]\n",
    "labeled_names = male_names + female_names\n",
    "random.shuffle(labeled_names)\n",
    "res_accuracy = []\n",
    "\n",
    "print(\"------ Last letter ------\")\n",
    "featuresets = [(gender_features(n), gender) for (n, gender) in labeled_names]\n",
    "train_set, test_set = featuresets[500:], featuresets[:500]\n",
    "classifier = nltk.NaiveBayesClassifier.train(train_set)\n",
    "\n",
    "ans1 = classifier.classify(get_first2_last2('Cob'))\n",
    "ans2 = classifier.classify(get_first2_last2('John'))\n",
    "ans3 = classifier.classify(get_first2_last2('Barry'))\n",
    "print(\"Cob is:\", ans1)\n",
    "print(\"John is:\", ans2)\n",
    "print(\"Barry is:\", ans3)\n",
    "classifier.show_most_informative_features(5)\n",
    "print(nltk.classify.accuracy(classifier, test_set))\n",
    "res_accuracy.append(nltk.classify.accuracy(classifier, test_set))\n",
    "\n",
    "print(\"------ First 2 last 2 ------\")\n",
    "featuresets_first2_last2 = [(get_first2_last2(n), gender) for (n, gender) in labeled_names]\n",
    "train_set, test_set = featuresets_first2_last2[500:], featuresets_first2_last2[:500]\n",
    "classifier = nltk.NaiveBayesClassifier.train(train_set)\n",
    "\n",
    "ans1 = classifier.classify(get_first2_last2('Cob'))\n",
    "ans2 = classifier.classify(get_first2_last2('John'))\n",
    "ans3 = classifier.classify(get_first2_last2('Barry'))\n",
    "print(\"Cob is:\", ans1)\n",
    "print(\"John is:\", ans2)\n",
    "print(\"Barry is:\", ans3)\n",
    "\n",
    "classifier.show_most_informative_features(5)\n",
    "print(nltk.classify.accuracy(classifier, test_set))\n",
    "res_accuracy.append(nltk.classify.accuracy(classifier, test_set))\n",
    "\n",
    "\n",
    "print(\"------ Get from mid ------\")\n",
    "f_m = [(get_from_mid(n), gender) for (n, gender) in labeled_names]\n",
    "train_set, test_set = f_m[500:], f_m[:500]\n",
    "classifier = nltk.NaiveBayesClassifier.train(train_set)\n",
    "\n",
    "ans1 = classifier.classify(get_from_mid('Cob'))\n",
    "ans2 = classifier.classify(get_from_mid('John'))\n",
    "ans3 = classifier.classify(get_from_mid('Barry'))\n",
    "print(\"Cob is:\", ans1)\n",
    "print(\"John is:\", ans2)\n",
    "print(\"Barry is:\", ans3)\n",
    "\n",
    "classifier.show_most_informative_features(5)\n",
    "print(nltk.classify.accuracy(classifier, test_set))\n",
    "res_accuracy.append(nltk.classify.accuracy(classifier, test_set))\n",
    "\n",
    "fig, ax = plt.subplots() \n",
    "plt.bar([0, 1, 2], res_accuracy)\n",
    "labels = ['Last letter', 'First 2 last 2', 'Get from mid']\n",
    "plt.xticks([0, 1, 2], labels)\n",
    "plt.ylabel('Accuracy')\n",
    "plt.xlabel('Feature Sets')\n",
    "plt.show()\n",
    "\n",
    "# We need to draw the canvas, otherwise the labels won't be positioned and \n",
    "# won't have values yet."
   ]
  },
  {
   "cell_type": "code",
   "execution_count": 45,
   "metadata": {},
   "outputs": [],
   "source": [
    "def plotSVC(title):\n",
    "  # create a mesh to plot in\n",
    "    x_min, x_max = X[:, 0].min() - 1, X[:, 0].max() + 1\n",
    "    y_min, y_max = X[:, 1].min() - 1, X[:, 1].max() + 1\n",
    "    h = (x_max / x_min)/100\n",
    "    xx, yy = np.meshgrid(np.arange(x_min, x_max, h),\n",
    "    np.arange(y_min, y_max, h)) \n",
    "    plt.subplot(1, 1, 1)\n",
    "    Z = svc.predict(np.c_[xx.ravel(), yy.ravel()])\n",
    "    Z = Z.reshape(xx.shape)\n",
    "    plt.contourf(xx, yy, Z, cmap=plt.cm.Paired, alpha=0.8) \n",
    "    plt.scatter(X[:, 0], X[:, 1], c=y, cmap=plt.cm.Paired)\n",
    "    plt.xlabel('Sepal length')\n",
    "    plt.ylabel('Sepal width')\n",
    "    plt.xlim(xx.min(), xx.max())\n",
    "    plt.title(title)\n",
    "    plt.show()"
   ]
  },
  {
   "cell_type": "code",
   "execution_count": 47,
   "metadata": {},
   "outputs": [
    {
     "name": "stdout",
     "output_type": "stream",
     "text": [
      "Actual values --\n",
      "8 9 0 1 2\n"
     ]
    },
    {
     "data": {
      "image/png": "[encoded data removed]",
      "text/plain": [
       "<Figure size 432x288 with 1 Axes>"
      ]
     },
     "metadata": {
      "needs_background": "light"
     },
     "output_type": "display_data"
    },
    {
     "data": {
      "image/png": "[encoded data removed]",
      "text/plain": [
       "<Figure size 432x288 with 1 Axes>"
      ]
     },
     "metadata": {
      "needs_background": "light"
     },
     "output_type": "display_data"
    },
    {
     "data": {
      "image/png": "[encoded data removed]",
      "text/plain": [
       "<Figure size 432x288 with 1 Axes>"
      ]
     },
     "metadata": {
      "needs_background": "light"
     },
     "output_type": "display_data"
    },
    {
     "data": {
      "image/png": "[encoded data removed]",
      "text/plain": [
       "<Figure size 432x288 with 1 Axes>"
      ]
     },
     "metadata": {
      "needs_background": "light"
     },
     "output_type": "display_data"
    },
    {
     "data": {
      "image/png": "[encoded data removed]",
      "text/plain": [
       "<Figure size 432x288 with 1 Axes>"
      ]
     },
     "metadata": {
      "needs_background": "light"
     },
     "output_type": "display_data"
    },
    {
     "name": "stdout",
     "output_type": "stream",
     "text": [
      "Gamma => 0.0001 || C => 0.01\n",
      "Prediction: [3]\n",
      "Prediction: [3]\n",
      "Prediction: [3]\n",
      "Prediction: [3]\n",
      "Prediction: [3]\n",
      "Gamma => 1 || C => 100\n",
      "Prediction: [3]\n",
      "Prediction: [9]\n",
      "Prediction: [0]\n",
      "Prediction: [1]\n",
      "Prediction: [2]\n",
      "Gamma => 50000 || C => 10000000000000000\n",
      "Prediction: [3]\n",
      "Prediction: [9]\n",
      "Prediction: [0]\n",
      "Prediction: [1]\n",
      "Prediction: [2]\n"
     ]
    }
   ],
   "source": [
    "#Q3\n",
    "from sklearn import datasets\n",
    "from sklearn import svm\n",
    "\n",
    "digits = datasets.load_digits()\n",
    "x, y = digits.data[:-1], digits.target[:-1]\n",
    "\n",
    "\n",
    "dim = [-1, -2, 0, 1, 2]\n",
    "print(\"Actual values --\")\n",
    "print(8, 9, 0, 1, 2)\n",
    "for e in dim:\n",
    "    plt.imshow(digits.images[e], cmap=plt.cm.gray_r, interpolation='nearest')\n",
    "    plt.show()\n",
    "\n",
    "print(\"Gamma => 0.0001 || C => 0.01\")\n",
    "classifier = svm.SVC(gamma=0.0000001, C=0.00000001)\n",
    "classifier.fit(x, y)\n",
    "print('Prediction:', classifier.predict(digits.data[-1].reshape(1, -1)))\n",
    "print('Prediction:', classifier.predict(digits.data[-2].reshape(1, -1)))\n",
    "print('Prediction:', classifier.predict(digits.data[0].reshape(1, -1)))\n",
    "print('Prediction:', classifier.predict(digits.data[1].reshape(1, -1)))\n",
    "print('Prediction:', classifier.predict(digits.data[2].reshape(1, -1)))\n",
    "\n",
    "print(\"Gamma => 1 || C => 100\")\n",
    "classifier = svm.SVC(gamma=1, C=100)\n",
    "classifier.fit(x, y)\n",
    "print('Prediction:', classifier.predict(digits.data[-1].reshape(1, -1)))\n",
    "print('Prediction:', classifier.predict(digits.data[-2].reshape(1, -1)))\n",
    "print('Prediction:', classifier.predict(digits.data[0].reshape(1, -1)))\n",
    "print('Prediction:', classifier.predict(digits.data[1].reshape(1, -1)))\n",
    "print('Prediction:', classifier.predict(digits.data[2].reshape(1, -1)))\n",
    "\n",
    "print(\"Gamma => 50000 || C => 10000000000000000\")\n",
    "classifier = svm.SVC(gamma=50000, C=10000000000000000)\n",
    "classifier.fit(x, y)\n",
    "print('Prediction:', classifier.predict(digits.data[-1].reshape(1, -1)))\n",
    "print('Prediction:', classifier.predict(digits.data[-2].reshape(1, -1)))\n",
    "print('Prediction:', classifier.predict(digits.data[0].reshape(1, -1)))\n",
    "print('Prediction:', classifier.predict(digits.data[1].reshape(1, -1)))\n",
    "print('Prediction:', classifier.predict(digits.data[2].reshape(1, -1)))"
   ]
  },
  {
   "cell_type": "code",
   "execution_count": null,
   "metadata": {},
   "outputs": [],
   "source": []
  },
  {
   "cell_type": "code",
   "execution_count": null,
   "metadata": {},
   "outputs": [],
   "source": []
  }
 ],
 "metadata": {
  "kernelspec": {
   "display_name": "Python 3",
   "language": "python",
   "name": "python3"
  },
  "language_info": {
   "codemirror_mode": {
    "name": "ipython",
    "version": 3
   },
   "file_extension": ".py",
   "mimetype": "text/x-python",
   "name": "python",
   "nbconvert_exporter": "python",
   "pygments_lexer": "ipython3",
   "version": "3.7.6"
  },
  "toc": {
   "base_numbering": 1,
   "nav_menu": {},
   "number_sections": true,
   "sideBar": true,
   "skip_h1_title": false,
   "title_cell": "Table of Contents",
   "title_sidebar": "Contents",
   "toc_cell": false,
   "toc_position": {},
   "toc_section_display": true,
   "toc_window_display": false
  }
 },
 "nbformat": 4,
 "nbformat_minor": 2
}
